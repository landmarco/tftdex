{
 "cells": [
  {
   "cell_type": "code",
   "execution_count": 45,
   "metadata": {},
   "outputs": [],
   "source": [
    "import numpy as np\n",
    "import pandas as pd\n",
    "import re\n",
    "import warnings\n",
    "from scipy import stats\n",
    "# Interactive plotting with FigureWidget ipywidgets\n",
    "from plotly import graph_objs as go\n",
    "from ipywidgets import widgets"
   ]
  },
  {
   "cell_type": "code",
   "execution_count": 46,
   "metadata": {},
   "outputs": [],
   "source": [
    "# Represent probabilities of a tier hit\n",
    "level1 = [1.0, 0, 0, 0, 0]\n",
    "level2 = [1.0, 0, 0, 0, 0]\n",
    "level3 = [.65, .3, .5, 0, 0]\n",
    "level4 = [.5, .35, .15, 0, 0]\n",
    "level5 = [.37, .35, .25, .03, 0]\n",
    "level6 = [.245, .35, .3, .10, .005]\n",
    "level7 = [.2, .3, .33, .15, .02]\n",
    "level8 = [.15, .25, .35, .2, .05]\n",
    "level9 = [.1, .15, .35, .3, .1]\n",
    "levels_df = pd.DataFrame([level1,level2,level3,level4,level5,level6,level7,level8,level9],\n",
    "                      columns=['Tier 1', 'Tier 2', 'Tier 3', 'Tier 4', 'Tier 5'])\n",
    "\n",
    "# Represent tier numbers & frequencies\n",
    "tier1 = (13, 39)\n",
    "tier2 = (13, 26)\n",
    "tier3 = (13, 21)\n",
    "tier4 = (10, 13)\n",
    "tier5 = (6, 10)\n",
    "tiers_df = pd.DataFrame([tier1,tier2,tier3,tier4,tier5], columns=['Unique Characters', 'Characters in Pool'])\n",
    "\n",
    "# Establish color dict for tiers\n",
    "#color_dict = {0:'Red', 1:'Gray', 2:'Green', 3:'Blue', 4:'Purple', 5:'Gold'}\n",
    "color_dict = {0:'Red',1:'#A0A094',2:'#2DAE5E',3:'#3EBDE6',4:'#B375F2',5:'#F2B425',10:'Brown'}\n",
    "\n",
    "# State current patch that has these characteristics\n",
    "patch = '9.16b'"
   ]
  },
  {
   "cell_type": "code",
   "execution_count": 60,
   "metadata": {},
   "outputs": [],
   "source": [
    "#TODO: Make opinionated toggle that changes total characters available in a pool dependent on current level\n",
    "#TODO: Make Dash web version\n",
    "#TODO: Implement median version\n",
    "def hit_prob(level, tier, levels_df=levels_df, tiers_df=tiers_df, removed=0, others_claimed=0):\n",
    "    tier = int(tier)\n",
    "    if (1 <= tier <= 5) and (1 <= level <= 9):\n",
    "        tier_prob = float(levels_df.loc[level-1,'Tier {}'.format(tier)])\n",
    "        hits_in_pool = int(tiers_df.loc[tier-1,'Characters in Pool'])\n",
    "        if removed > hits_in_pool: \n",
    "            removed = hits_in_pool\n",
    "        char_hits = hits_in_pool - removed\n",
    "        chars_in_tier = int(tiers_df.loc[tier-1,'Unique Characters'])\n",
    "        if others_claimed > (chars_in_tier-1)*hits_in_pool:\n",
    "            others_claimed = (chars_in_tier-1)*hits_in_pool\n",
    "        hit_prob_solo = (char_hits/((chars_in_tier-1)*hits_in_pool + char_hits - others_claimed))*tier_prob\n",
    "        hit_prob = hit_prob_solo*5\n",
    "        return hit_prob\n",
    "    else:\n",
    "        return 0.0\n",
    "\n",
    "def multi_hits_prob(level, tiers, levels_df=levels_df, tiers_df=tiers_df, removed=0, others_claimed=0):\n",
    "    multi_hits_prob = 0\n",
    "    if isinstance(tiers,list):\n",
    "        for tier in tiers:\n",
    "            multi_hits_prob += hit_prob(level, tier, levels_df, tiers_df, removed, others_claimed)\n",
    "    else:\n",
    "        mult_hits_prob = hit_prob(level, tiers, levels_df, tiers_df, removed, others_claimed)\n",
    "    return multi_hits_prob\n",
    "\n",
    "def multi_rolls_prob(level, tiers, rolls=10, levels_df=levels_df, tiers_df=tiers_df, removed=0, others_claimed=0):\n",
    "    multi_rolls_prob = list(map(lambda x:(x+1)*multi_hits_prob(level, tiers, \n",
    "                            levels_df, tiers_df, removed, others_claimed), list(range(rolls))))\n",
    "    return multi_rolls_prob\n",
    "\n",
    "def custom_bar(level,rolls,champ,champ_letter):\n",
    "    complete_bar = go.Bar(x=list(range(1,rolls+1)), \n",
    "              y=multi_rolls_prob(level, [int(champ)], rolls=rolls),\n",
    "              name='Champion {}'.format(champ_letter),\n",
    "              text=['{0:.4f}'.format(x) for x in multi_rolls_prob(level, [int(champ)], rolls=rolls)],\n",
    "              textposition='auto',\n",
    "              hoverinfo='y+name',\n",
    "              marker={'color':color_dict[int(champ)],\n",
    "                     'line': {'width':1.5}\n",
    "                     }\n",
    "             )\n",
    "    return complete_bar\n",
    "\n",
    "def custom_scatter(level,rolls,tier,champ_letter):\n",
    "    prob = hit_prob(level, int(tier))\n",
    "    custom_scatter = go.Scatter(x=list(range(1,rolls+1)),\n",
    "                               y=stats.geom.cdf(list(range(1,rolls+1)),prob),\n",
    "                                name='Champion {0}, median = {1}'.format(champ_letter, stats.geom.median(prob)),\n",
    "                                text=['{0:.4f}'.format(x) for x in stats.geom.cdf(list(range(1,rolls+1)),prob)],\n",
    "                                hoverinfo='y+name',\n",
    "                               marker={'color':color_dict[int(tier)]})\n",
    "    return custom_scatter\n",
    "\n",
    "def champ_widget(initial_value,champ_letter):\n",
    "    complete_champ = widgets.Text(\n",
    "        value=str(initial_value),\n",
    "        description='Champion {}'.format(champ_letter),\n",
    "        layout={'width':'155px'})\n",
    "    return complete_champ\n",
    " \n",
    "def cdf_version(rolls,prob):\n",
    "    return stats.geom.cdf(list(range(1,rolls+1)),prob)"
   ]
  },
  {
   "cell_type": "markdown",
   "metadata": {},
   "source": [
    "# TFTdex display"
   ]
  },
  {
   "cell_type": "code",
   "execution_count": 69,
   "metadata": {},
   "outputs": [],
   "source": [
    "initial_level = 1\n",
    "initial_rolls = 10\n",
    "\n",
    "level_widget = widgets.BoundedIntText(\n",
    "    value=initial_level,\n",
    "    min=1,\n",
    "    max=9,\n",
    "    step=1,\n",
    "    description='Current Level',\n",
    "    layout={'width':'155px'}\n",
    "    )\n",
    "\n",
    "rolls_widget = widgets.BoundedIntText(\n",
    "    value=initial_rolls,\n",
    "    min=1,\n",
    "    max=30,\n",
    "    step=1,\n",
    "    description='Max Rolls',\n",
    "    layout={'width':'155px'}\n",
    "    )\n",
    "\n",
    "champA = champ_widget(1,'A')\n",
    "champB = champ_widget(0,'B')\n",
    "champC = champ_widget(0,'C')\n",
    "champD = champ_widget(0,'D')\n",
    "champE = champ_widget(0,'E')\n",
    "\n",
    "level_rolls_container = widgets.HBox([level_widget,rolls_widget])\n",
    "champ_container = widgets.HBox(children=[champA, champB, champC, champD, champE])"
   ]
  },
  {
   "cell_type": "code",
   "execution_count": 70,
   "metadata": {},
   "outputs": [],
   "source": [
    "#TODO: make df of y values to make more readable\n",
    "#TODO: make first 1.0 line a solid black line\n",
    "#TODO: put in median on geo plot\n",
    "#TODO: shrinker marker sizes on geo plot\n",
    "\n",
    "barA = custom_bar(level_widget.value,initial_rolls,champA.value,'A')\n",
    "barB = custom_bar(level_widget.value,initial_rolls,champB.value,'B')\n",
    "barC = custom_bar(level_widget.value,initial_rolls,champC.value,'C')\n",
    "barD = custom_bar(level_widget.value,initial_rolls,champD.value,'D')\n",
    "barE = custom_bar(level_widget.value,initial_rolls,champE.value,'E')\n",
    "\n",
    "with warnings.catch_warnings():\n",
    "    warnings.simplefilter('ignore')\n",
    "    scattA = custom_scatter(level_widget.value,initial_rolls,champA.value,'A')\n",
    "    scattB = custom_scatter(level_widget.value,initial_rolls,champB.value,'B')\n",
    "    scattC = custom_scatter(level_widget.value,initial_rolls,champC.value,'C')\n",
    "    scattD = custom_scatter(level_widget.value,initial_rolls,champD.value,'D')\n",
    "    scattE = custom_scatter(level_widget.value,initial_rolls,champE.value,'E')    \n",
    "    tot_prob = hit_prob(level_widget.value,champA.value)\n",
    "    scattTot = go.Scatter(x=list(range(1,initial_rolls+1)),\n",
    "                                   y=stats.geom.cdf(list(range(1,initial_rolls+1)),tot_prob),\n",
    "                                    name='Total, median = {}'.format(stats.geom.median(tot_prob)),\n",
    "                                    text=['{0:.4f}'.format(x) for x in stats.geom.cdf(\n",
    "                                        list(range(1,initial_rolls+1)),tot_prob)],\n",
    "                                    hoverinfo='y+name',\n",
    "                                   marker={'color':color_dict[10]})\n",
    "\n",
    "fig = go.FigureWidget(data=[barE, barD, barC, barB, barA],\n",
    "             layout=go.Layout(\n",
    "                 title='TFTdex (Patch {})'.format(patch),\n",
    "                 height=500,\n",
    "                 barmode='stack',\n",
    "                 yaxis={'range':[0,6],\n",
    "                   'title':'Expected number of hits',\n",
    "                   'nticks':8,\n",
    "                    'hoverformat':'.4f'},\n",
    "                 ygrid={''}\n",
    "                 xaxis={'title':'Number of Rolls',\n",
    "                       'dtick':1},\n",
    "                 legend={'traceorder':'reversed'}\n",
    "             ))\n",
    "\n",
    "scattfig = go.FigureWidget(data=[scattE, scattD, scattC, scattB, scattA, scattTot],\n",
    "             layout=go.Layout(\n",
    "                 title='Cumulative Distribution Function',\n",
    "                 height=500,\n",
    "                 yaxis={'range':[0,1],\n",
    "                        'title':'Likelihood of at least one hit',\n",
    "                        'nticks':10,\n",
    "                       'hoverformat':'.4f'},\n",
    "                 xaxis={'title':'Number of Rolls',\n",
    "                       'dtick':1},\n",
    "                 legend={'traceorder':'reversed'}\n",
    "             ))\n"
   ]
  },
  {
   "cell_type": "code",
   "execution_count": 71,
   "metadata": {},
   "outputs": [],
   "source": [
    "def validate():\n",
    "    if 1 <= level_widget.value <= 9:\n",
    "        return True\n",
    "    else:\n",
    "        return False\n",
    "    \n",
    "def scatt_update(level, rolls, letter, champ_df):\n",
    "    if letter=='total':\n",
    "        prob = sum(champ_df['hit_prob'])\n",
    "        prob_dist = stats.geom.cdf(list(range(1,rolls+1)),prob)\n",
    "        letter_idx = 5\n",
    "        tier = 10\n",
    "        scattfig.data[letter_idx].name='Total, median = {}'.format(stats.geom.median(prob))    \n",
    "    else:\n",
    "        idx_dict = {'A':4,'B':3,'C':2,'D':1,'E':0}\n",
    "        letter_idx = idx_dict[letter]\n",
    "        tier = champ_df.loc[letter,'champ_tier']\n",
    "        removed = champ_df.loc[letter,'removed']\n",
    "        others_claimed = champ_df.loc[letter,'others_claimed']\n",
    "        prob = hit_prob(level, tier, removed=removed, others_claimed=others_claimed)\n",
    "        prob_dist = stats.geom.cdf(list(range(1,rolls+1)),prob)\n",
    "        scattfig.data[letter_idx].name='Champion {0}, median = {1}'.format(letter, stats.geom.median(prob))  \n",
    "\n",
    "    scattfig.data[letter_idx].x=list(range(1,rolls+1))\n",
    "    scattfig.data[letter_idx].y=prob_dist\n",
    "    scattfig.data[letter_idx].text=['{0:.4f}'.format(x) for x in prob_dist]\n",
    "    scattfig.data[letter_idx].marker['color']=color_dict.get(tier,'Black')\n",
    "      \n",
    "\n",
    "\n",
    "def check(change):\n",
    "    if validate:\n",
    "        level = level_widget.value\n",
    "        rolls = rolls_widget.value\n",
    "        champ_df = pd.DataFrame(columns=['input_string','split_string','champ_tier','removed','others_claimed','hit_prob'],\n",
    "                          index=['A','B','C','D','E']).fillna(0)\n",
    "        champ_df['input_string'] = [champA.value, champB.value, champC.value, champD.value, champE.value]\n",
    "        champ_df['split_string'] = [list(filter(None, re.sub('[^,0-9]','',x).split(','))) for x in champ_df['input_string']]\n",
    "        champ_df['champ_tier'] = [int(x[0]) if x else 0 for x in champ_df['split_string']]\n",
    "        champ_df['removed'] = [int(x[1]) if len(x)>1 else 0 for x in champ_df['split_string']]\n",
    "        champ_df['others_claimed'] = [int(x[2]) if len(x)>2 else 0 for x in champ_df['split_string']]\n",
    "        champ_df['hit_prob'] = [hit_prob(level,champ_df.loc[x,'champ_tier'],\n",
    "                                         removed=champ_df.loc[x,'removed'],\n",
    "                                         others_claimed=champ_df.loc[x,'others_claimed']) for x in champ_df.index]\n",
    "        \n",
    "#TODO: make df of prob values to make more extensible\n",
    "        with fig.batch_update():\n",
    "            \n",
    "            fig.data[4].x=list(range(1,rolls+1))\n",
    "            fig.data[4].y=multi_rolls_prob(level, [champ_df.loc['A','champ_tier']], rolls=rolls, \n",
    "                                           removed=champ_df.loc['A','removed'], \n",
    "                                           others_claimed=champ_df.loc['A','others_claimed'])\n",
    "            fig.data[4].text=['{0:.4f}'.format(x) for x in multi_rolls_prob(level, rolls=rolls,\n",
    "                                            tiers=[champ_df.loc['A','champ_tier']], \n",
    "                                           removed=champ_df.loc['A','removed'],\n",
    "                             others_claimed=champ_df.loc['A','others_claimed'])]\n",
    "            fig.data[4].marker['color']=color_dict.get(champ_df.loc['A','champ_tier'],'Black')\n",
    "            fig.data[3].x=list(range(1,rolls+1))\n",
    "            fig.data[3].y=multi_rolls_prob(level, [champ_df.loc['B','champ_tier']], rolls=rolls,\n",
    "                                           removed=champ_df.loc['B','removed'],\n",
    "                                          others_claimed=champ_df.loc['B','others_claimed'])\n",
    "            fig.data[3].text=['{0:.4f}'.format(x) for x in multi_rolls_prob(level, rolls=rolls,\n",
    "                                            tiers=[champ_df.loc['B','champ_tier']], \n",
    "                                           removed=champ_df.loc['B','removed'],\n",
    "                             others_claimed=champ_df.loc['B','others_claimed'])]\n",
    "            fig.data[3].marker['color']=color_dict.get(champ_df.loc['B','champ_tier'],'Black')\n",
    "            fig.data[2].x=list(range(1,rolls+1))\n",
    "            fig.data[2].y=multi_rolls_prob(level, [champ_df.loc['C','champ_tier']], rolls=rolls,\n",
    "                                           removed=champ_df.loc['C','removed'],\n",
    "                                          others_claimed=champ_df.loc['C','others_claimed'])\n",
    "            fig.data[2].text=['{0:.4f}'.format(x) for x in multi_rolls_prob(level, rolls=rolls,\n",
    "                                            tiers=[champ_df.loc['C','champ_tier']], \n",
    "                                           removed=champ_df.loc['C','removed'],\n",
    "                             others_claimed=champ_df.loc['C','others_claimed'])]\n",
    "            fig.data[2].marker['color']=color_dict.get(champ_df.loc['C','champ_tier'],'Black')\n",
    "            fig.data[1].x=list(range(1,rolls+1))\n",
    "            fig.data[1].y=multi_rolls_prob(level, [champ_df.loc['D','champ_tier']], rolls=rolls,\n",
    "                                           removed=champ_df.loc['D','removed'],\n",
    "                                          others_claimed=champ_df.loc['D','others_claimed'])\n",
    "            fig.data[1].text=['{0:.4f}'.format(x) for x in multi_rolls_prob(level, rolls=rolls,\n",
    "                                            tiers=[champ_df.loc['D','champ_tier']], \n",
    "                                           removed=champ_df.loc['D','removed'],\n",
    "                             others_claimed=champ_df.loc['D','others_claimed'])]\n",
    "            fig.data[1].marker['color']=color_dict.get(champ_df.loc['D','champ_tier'],'Black')\n",
    "            fig.data[0].x=list(range(1,rolls+1))\n",
    "            fig.data[0].y=multi_rolls_prob(level, [champ_df.loc['E','champ_tier']], rolls=rolls,\n",
    "                                           removed=champ_df.loc['E','removed'],\n",
    "                                          others_claimed=champ_df.loc['E','others_claimed'])\n",
    "            fig.data[0].text=['{0:.4f}'.format(x) for x in multi_rolls_prob(level, rolls=rolls,\n",
    "                                            tiers=[champ_df.loc['E','champ_tier']], \n",
    "                                           removed=champ_df.loc['E','removed'],\n",
    "                             others_claimed=champ_df.loc['E','others_claimed'])]\n",
    "            fig.data[0].marker['color']=color_dict.get(champ_df.loc['E','champ_tier'],'Black')\n",
    "            with warnings.catch_warnings():\n",
    "                warnings.simplefilter('ignore')\n",
    "                scatt_update(level,rolls,'A', champ_df)\n",
    "                scatt_update(level,rolls,'B', champ_df)\n",
    "                scatt_update(level,rolls,'C', champ_df)\n",
    "                scatt_update(level,rolls,'D', champ_df)\n",
    "                scatt_update(level,rolls,'E', champ_df)\n",
    "                scatt_update(level,rolls,'total', champ_df)\n",
    "\n",
    "level_widget.observe(check, names='value')\n",
    "rolls_widget.observe(check, names='value')\n",
    "champA.observe(check, names='value')\n",
    "champB.observe(check, names='value')\n",
    "champC.observe(check, names='value')\n",
    "champD.observe(check, names='value')\n",
    "champE.observe(check, names='value')"
   ]
  },
  {
   "cell_type": "code",
   "execution_count": 72,
   "metadata": {
    "scrolled": false
   },
   "outputs": [
    {
     "name": "stdout",
     "output_type": "stream",
     "text": [
      "Input desired champion info in the format \"TIER,NUMBER OF CLAIMED CHAMPS,NUMBER OF OTHER CLAIMED CHAMPS IN TIER\"\n"
     ]
    },
    {
     "data": {
      "application/vnd.jupyter.widget-view+json": {
       "model_id": "41944232b5564f7f97f03070a2d5fc0a",
       "version_major": 2,
       "version_minor": 0
      },
      "text/plain": [
       "VBox(children=(FigureWidget({\n",
       "    'data': [{'hoverinfo': 'y+name',\n",
       "              'marker': {'color': 'Red', 'l…"
      ]
     },
     "metadata": {},
     "output_type": "display_data"
    }
   ],
   "source": [
    "print('Input desired champion info in the format \"TIER,NUMBER OF CLAIMED CHAMPS,NUMBER OF OTHER CLAIMED CHAMPS IN TIER\"')\n",
    "full_plot = widgets.VBox([fig, level_rolls_container, champ_container, scattfig])\n",
    "display(full_plot)"
   ]
  },
  {
   "cell_type": "markdown",
   "metadata": {},
   "source": [
    "# Alternative displays"
   ]
  },
  {
   "cell_type": "code",
   "execution_count": 560,
   "metadata": {},
   "outputs": [],
   "source": [
    "level_widget = widgets.IntText(\n",
    "            value=1.0,\n",
    "            description='Current Level='\n",
    "    )\n",
    "\n",
    "#TODO: make a custom widget that accepts a list of tiers\n",
    "tiers1 = widgets.IntText(\n",
    "            value=1.0,\n",
    "            description='Number of Tier1 Champions='\n",
    "    )\n",
    "\n",
    "tiers2 = widgets.IntText(\n",
    "            value=0.0,\n",
    "            description='Number of Tier2 Champions='\n",
    "    )\n",
    "\n",
    "tiers3 = widgets.IntText(\n",
    "            value=0.0,\n",
    "            description='Number of Tier3 Champions='\n",
    "    )\n",
    "\n",
    "tiers4 = widgets.IntText(\n",
    "            value=0.0,\n",
    "            description='Number of Tier4 Champions='\n",
    "    )\n",
    "\n",
    "tiers5 = widgets.IntText(\n",
    "            value=0.0,\n",
    "            description='Number of Tier5 Champions='\n",
    "    )"
   ]
  },
  {
   "cell_type": "code",
   "execution_count": 561,
   "metadata": {},
   "outputs": [],
   "source": [
    "rolls = 10\n",
    "initial_level = 1\n",
    "initial_tiers = []\n",
    "initial_tiers.extend([1 for x in range(tiers1.value)])\n",
    "initial_tiers.extend([2 for x in range(tiers2.value)])\n",
    "initial_tiers.extend([3 for x in range(tiers3.value)])\n",
    "initial_tiers.extend([4 for x in range(tiers4.value)])\n",
    "initial_tiers.extend([5 for x in range(tiers5.value)])"
   ]
  },
  {
   "cell_type": "code",
   "execution_count": 562,
   "metadata": {},
   "outputs": [],
   "source": [
    "#TODO: plot probs of each individual hit, and probs of any hit\n",
    "total_trace = go.Scatter(x=list(range(1,rolls)), \n",
    "                         y=multi_rolls_prob(initial_level, initial_tiers),\n",
    "                         line={'width':4.0},\n",
    "                         opacity=0.5,\n",
    "                        name='Hit on anything')\n",
    "trace1 = go.Scatter(x=list(range(1,rolls)), \n",
    "                    y=multi_rolls_prob(initial_level, [1]),\n",
    "                   line={'color':'DarkGray'},\n",
    "                    #opacity=0.9,\n",
    "                    name='Tier1 hit'\n",
    "                   )\n",
    "\n",
    "#TODO: Create additional five traces\n",
    "g = go.FigureWidget(data=[total_trace, trace1],\n",
    "             layout=go.Layout(\n",
    "             title='TFTdex',\n",
    "                 height=500,\n",
    "             yaxis={'range':[0,10],\n",
    "                   'title':'Expected Number of Hits',\n",
    "                   'nticks':20},\n",
    "            xaxis={'title':'Number of Rolls'}\n",
    "             ))"
   ]
  },
  {
   "cell_type": "code",
   "execution_count": 563,
   "metadata": {},
   "outputs": [],
   "source": [
    "# Function to handle input from widgets and alter graph\n",
    "def validate():\n",
    "    if 1 <= level_widget.value <= 9:\n",
    "        return True\n",
    "    else:\n",
    "        return False\n",
    "    \n",
    "def response(change):\n",
    "    if validate():\n",
    "        level = level_widget.value\n",
    "        tiers = []\n",
    "        if tiers1.value <= tiers_df['Unique Characters'][0]: tiers.extend([1]*tiers1.value)\n",
    "        if tiers2.value <= tiers_df['Unique Characters'][1]: tiers.extend([2]*tiers2.value)\n",
    "        if tiers3.value <= tiers_df['Unique Characters'][2]: tiers.extend([3]*tiers3.value)\n",
    "        if tiers4.value <= tiers_df['Unique Characters'][3]: tiers.extend([4]*tiers4.value)\n",
    "        if tiers5.value <= tiers_df['Unique Characters'][4]: tiers.extend([5]*tiers5.value)\n",
    "        #print(tiers)\n",
    "\n",
    "        updated_probs = multi_rolls_prob(level, tiers)\n",
    "        with g.batch_update():\n",
    "            g.data[0].y = updated_probs\n",
    "            g.data[1].y = multi_rolls_prob(level, [1])\n",
    "\n",
    "#level_widget.observe(response, names='value')\n",
    "#tiers1.observe(response, names='value')\n",
    "#tiers2.observe(response, names='value')\n",
    "#tiers3.observe(response, names='value')\n",
    "#tiers4.observe(response, names='value')\n",
    "#tiers5.observe(response, names='value')\n",
    "g.observe(response, names='value')"
   ]
  },
  {
   "cell_type": "code",
   "execution_count": 564,
   "metadata": {},
   "outputs": [
    {
     "data": {
      "application/vnd.jupyter.widget-view+json": {
       "model_id": "f28d2205e1654a5694834520ffd1fc44",
       "version_major": 2,
       "version_minor": 0
      },
      "text/plain": [
       "VBox(children=(IntText(value=1, description='Current Level='), IntText(value=1, description='Number of Tier1 C…"
      ]
     },
     "metadata": {},
     "output_type": "display_data"
    }
   ],
   "source": [
    "widgets.VBox([level_widget, tiers1, tiers2, tiers3, tiers4, tiers5, g])"
   ]
  },
  {
   "cell_type": "markdown",
   "metadata": {},
   "source": [
    "# Calculate the probability of a hit of one unit at a given level"
   ]
  },
  {
   "cell_type": "code",
   "execution_count": 16,
   "metadata": {},
   "outputs": [
    {
     "name": "stdout",
     "output_type": "stream",
     "text": [
      "0.1042\n"
     ]
    }
   ],
   "source": [
    "level=5\n",
    "tier=3\n",
    "print('{0:.4f}'.format(hit_prob(level,tier)))"
   ]
  },
  {
   "cell_type": "markdown",
   "metadata": {},
   "source": [
    "# Calculate the probability of a hit of multiple units at a given level"
   ]
  },
  {
   "cell_type": "code",
   "execution_count": 17,
   "metadata": {},
   "outputs": [
    {
     "name": "stdout",
     "output_type": "stream",
     "text": [
      "0.3958\n"
     ]
    }
   ],
   "source": [
    "level=5\n",
    "tiers=[3,2,2]\n",
    "print('{0:.4f}'.format(multi_hits_prob(level, tiers)))"
   ]
  },
  {
   "cell_type": "markdown",
   "metadata": {},
   "source": [
    "# Calculate the mean & variance of hits given a certain number of rolls"
   ]
  },
  {
   "cell_type": "code",
   "execution_count": 84,
   "metadata": {},
   "outputs": [
    {
     "name": "stdout",
     "output_type": "stream",
     "text": [
      "mean = 2.3750 \n",
      "variance = 1.4349\n"
     ]
    }
   ],
   "source": [
    "level=5\n",
    "tiers=[3,2,2]\n",
    "rolls=6\n",
    "one_roll_prob=multi_hits_prob(level,tiers)\n",
    "mean, var, skew, kurt = stats.binom.stats(rolls, one_roll_prob, moments='mvsk')\n",
    "print('mean = {0:.4f} \\nvariance = {1:.4f}'.format(mean,var))"
   ]
  },
  {
   "cell_type": "markdown",
   "metadata": {},
   "source": [
    "# Show Geometric CDF"
   ]
  },
  {
   "cell_type": "code",
   "execution_count": 85,
   "metadata": {},
   "outputs": [
    {
     "data": {
      "text/plain": [
       "array([0.1042    , 0.19754236, 0.28115845, 0.35606174, 0.4231601 ,\n",
       "       0.48326682, 0.53711042, 0.58534351, 0.62855072, 0.66725573])"
      ]
     },
     "execution_count": 85,
     "metadata": {},
     "output_type": "execute_result"
    }
   ],
   "source": [
    "rolls=10\n",
    "samp_prob=.12\n",
    "stats.geom.cdf(list(range(1,rolls+1)),.1042)"
   ]
  },
  {
   "cell_type": "code",
   "execution_count": 102,
   "metadata": {},
   "outputs": [
    {
     "data": {
      "application/vnd.jupyter.widget-view+json": {
       "model_id": "b4d7921dc73e46f181ae51949424854b",
       "version_major": 2,
       "version_minor": 0
      },
      "text/plain": [
       "FigureWidget({\n",
       "    'data': [{'hoverinfo': 'y+name',\n",
       "              'marker': {'color': '#A0A094'},\n",
       "            …"
      ]
     },
     "metadata": {},
     "output_type": "display_data"
    }
   ],
   "source": [
    "\n",
    "\n",
    "scattA = custom_scatter(level,rolls,1,'A')\n",
    "\n",
    "fig = go.FigureWidget(data=[scattA],\n",
    "             layout=go.Layout(\n",
    "                 title='TFTdex (Patch {})'.format(patch),\n",
    "                 yaxis={'hoverformat':'.4f'},\n",
    "                 height=500,\n",
    "             ))\n",
    "\n",
    "fig"
   ]
  },
  {
   "cell_type": "code",
   "execution_count": 101,
   "metadata": {},
   "outputs": [
    {
     "ename": "SyntaxError",
     "evalue": "invalid syntax (<ipython-input-101-3878c828f383>, line 27)",
     "output_type": "error",
     "traceback": [
      "\u001b[0;36m  File \u001b[0;32m\"<ipython-input-101-3878c828f383>\"\u001b[0;36m, line \u001b[0;32m27\u001b[0m\n\u001b[0;31m    marker={'color':color_dict[int(champA.value)],\u001b[0m\n\u001b[0m         ^\u001b[0m\n\u001b[0;31mSyntaxError\u001b[0m\u001b[0;31m:\u001b[0m invalid syntax\n"
     ]
    }
   ],
   "source": [
    "def bar_display(level,rolls,champ,champ_letter):\n",
    "    complete_bar = go.Bar(x=list(range(1,rolls+1)), \n",
    "              y=multi_rolls_prob(level, [int(champ)], rolls=rolls),\n",
    "              name='Champion {}'.format(champ_letter),\n",
    "              text=['{0:.4f}'.format(x) for x in multi_rolls_prob(level, [int(champ)], rolls=rolls)],\n",
    "              textposition='auto',\n",
    "              hoverinfo='y+name',\n",
    "              marker={'color':color_dict[int(champ)],\n",
    "                     'line': {'width':1.5}\n",
    "                     }\n",
    "             )\n",
    "    return complete_bar\n",
    "\n",
    "class bar_display(go.Bar):\n",
    "    def __init__(self,level,rolls,champ,champ_letter):\n",
    "        self.level = level\n",
    "        self.rolls = rolls\n",
    "        self.champ = champ\n",
    "        self.letter = champ_letter\n",
    "    bar_obj = go.Bar(x=list(range(1,rolls+1)), \n",
    "              y=multi_rolls_prob(level, [int(champ)], rolls=rolls),\n",
    "              name='Champion A',\n",
    "              text=['{0:.4f}'.format(x) for x in multi_rolls_prob(level_widget.value, [int(champA.value)], rolls=initial_rolls)],\n",
    "              textposition='auto',\n",
    "              hoverinfo='y+name',\n",
    "                \n",
    "              marker={'color':color_dict[int(champA.value)],\n",
    "                     'line': {'width':1.5}\n",
    "                     }\n",
    "             )"
   ]
  },
  {
   "cell_type": "code",
   "execution_count": 36,
   "metadata": {},
   "outputs": [
    {
     "data": {
      "application/vnd.jupyter.widget-view+json": {
       "model_id": "ee35e5a585534f90b8547cb069884bee",
       "version_major": 2,
       "version_minor": 0
      },
      "text/plain": [
       "FigureWidget({\n",
       "    'data': [{'marker': {'color': 'Red'},\n",
       "              'type': 'scatter',\n",
       "              'uid':…"
      ]
     },
     "metadata": {},
     "output_type": "display_data"
    }
   ],
   "source": [
    "fig"
   ]
  },
  {
   "cell_type": "code",
   "execution_count": null,
   "metadata": {},
   "outputs": [],
   "source": []
  }
 ],
 "metadata": {
  "anaconda-cloud": {},
  "kernelspec": {
   "display_name": "Python [default]",
   "language": "python",
   "name": "python3"
  },
  "language_info": {
   "codemirror_mode": {
    "name": "ipython",
    "version": 3
   },
   "file_extension": ".py",
   "mimetype": "text/x-python",
   "name": "python",
   "nbconvert_exporter": "python",
   "pygments_lexer": "ipython3",
   "version": "3.5.6"
  }
 },
 "nbformat": 4,
 "nbformat_minor": 2
}
