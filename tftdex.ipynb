{
 "cells": [
  {
   "cell_type": "code",
   "execution_count": 44,
   "metadata": {
    "collapsed": true
   },
   "outputs": [],
   "source": [
    "import numpy as np\n",
    "import pandas as pd\n",
    "from scipy import stats"
   ]
  },
  {
   "cell_type": "code",
   "execution_count": 16,
   "metadata": {},
   "outputs": [],
   "source": [
    "# Represent probabilities of a tier hit\n",
    "level1 = [1.0, 0, 0, 0, 0]\n",
    "level2 = [1.0, 0, 0, 0, 0]\n",
    "level3 = [.65, .3, .5, 0, 0]\n",
    "level4 = [.5, .35, .15, 0, 0]\n",
    "level5 = [.37, .35, .25, .03, 0]\n",
    "level6 = [.245, .35, .3, .10, .005]\n",
    "level7 = [.2, .3, .33, .15, .02]\n",
    "level8 = [.15, .25, .35, .2, .05]\n",
    "level9 = [.1, .15, .35, .3, .1]\n",
    "levels_df = pd.DataFrame([level1,level2,level3,level4,level5,level6,level7,level8,level9],\n",
    "                      columns=['Tier 1', 'Tier 2', 'Tier 3', 'Tier 4', 'Tier 5'])\n",
    "\n",
    "# Represent tier numbers & frequencies\n",
    "tier1 = (12, 39)\n",
    "tier2 = (12, 26)\n",
    "tier3 = (12, 21)\n",
    "tier4 = (9, 13)\n",
    "tier5 = (6, 10)\n",
    "tiers_df = pd.DataFrame([tier1,tier2,tier3,tier4,tier5], columns=['Unique Characters', 'Characters in Pool'])"
   ]
  },
  {
   "cell_type": "code",
   "execution_count": 22,
   "metadata": {},
   "outputs": [
    {
     "data": {
      "text/html": [
       "<div>\n",
       "<table border=\"1\" class=\"dataframe\">\n",
       "  <thead>\n",
       "    <tr style=\"text-align: right;\">\n",
       "      <th></th>\n",
       "      <th>Unique Characters</th>\n",
       "      <th>Characters in Pool</th>\n",
       "    </tr>\n",
       "  </thead>\n",
       "  <tbody>\n",
       "    <tr>\n",
       "      <th>0</th>\n",
       "      <td>12</td>\n",
       "      <td>39</td>\n",
       "    </tr>\n",
       "    <tr>\n",
       "      <th>1</th>\n",
       "      <td>12</td>\n",
       "      <td>26</td>\n",
       "    </tr>\n",
       "    <tr>\n",
       "      <th>2</th>\n",
       "      <td>12</td>\n",
       "      <td>21</td>\n",
       "    </tr>\n",
       "    <tr>\n",
       "      <th>3</th>\n",
       "      <td>9</td>\n",
       "      <td>13</td>\n",
       "    </tr>\n",
       "    <tr>\n",
       "      <th>4</th>\n",
       "      <td>6</td>\n",
       "      <td>10</td>\n",
       "    </tr>\n",
       "  </tbody>\n",
       "</table>\n",
       "</div>"
      ],
      "text/plain": [
       "   Unique Characters  Characters in Pool\n",
       "0                 12                  39\n",
       "1                 12                  26\n",
       "2                 12                  21\n",
       "3                  9                  13\n",
       "4                  6                  10"
      ]
     },
     "execution_count": 22,
     "metadata": {},
     "output_type": "execute_result"
    }
   ],
   "source": [
    "tiers_df"
   ]
  },
  {
   "cell_type": "code",
   "execution_count": 47,
   "metadata": {},
   "outputs": [
    {
     "data": {
      "text/plain": [
       "(array(0.78), array(0.6786), array(0.89830702), array(0.47362216))"
      ]
     },
     "execution_count": 47,
     "metadata": {},
     "output_type": "execute_result"
    }
   ],
   "source": [
    "stats.binom.stats(6,.13, moments='mvsk')"
   ]
  },
  {
   "cell_type": "code",
   "execution_count": 48,
   "metadata": {},
   "outputs": [
    {
     "data": {
      "text/plain": [
       "(array(0.78), array(0.6786))"
      ]
     },
     "execution_count": 48,
     "metadata": {},
     "output_type": "execute_result"
    }
   ],
   "source": [
    "stats.binom.stats(6,.13)"
   ]
  },
  {
   "cell_type": "code",
   "execution_count": 31,
   "metadata": {
    "collapsed": true
   },
   "outputs": [],
   "source": [
    "def hit_prob(level, tier, levels_df=levels_df, tiers_df=tiers_df):\n",
    "    tier_prob = levels_df['Tier {}'.format(tier)][level-1]\n",
    "    hits_in_pool = tiers_df['Characters in Pool'][tier-1]\n",
    "    chars_in_tier = tiers_df['Unique Characters'][tier-1]\n",
    "    hit_prob_solo = (hits_in_pool/(chars_in_tier*hits_in_pool))*tier_prob\n",
    "    hit_prob = hit_prob_solo*5 # could adjust this to account for dependent probs of sampling\n",
    "    return hit_prob\n",
    "\n",
    "#TODO: clean up & account for dependent probs\n",
    "def multi_hits_prob(level, tiers, levels_df=levels_df, tiers_df=tiers_df):\n",
    "    multi_hits_prob = 0\n",
    "    for tier in tiers:\n",
    "        multi_hits_prob += hit_prob(level, tier, levels_df, tiers_df)\n",
    "    return multi_hits_prob\n",
    "\n",
    "def multi_rolls_prob(rolls, level, tiers, levels_df=levels_df, tiers_df=tiers_df):\n",
    "    \n",
    "    "
   ]
  },
  {
   "cell_type": "markdown",
   "metadata": {},
   "source": [
    "# Calculate the probability of a hit of one unit at a given level"
   ]
  },
  {
   "cell_type": "code",
   "execution_count": 49,
   "metadata": {},
   "outputs": [
    {
     "name": "stdout",
     "output_type": "stream",
     "text": [
      "0.10416666666666666\n"
     ]
    }
   ],
   "source": [
    "level=5\n",
    "tier=3\n",
    "print(hit_prob(level,tier))"
   ]
  },
  {
   "cell_type": "markdown",
   "metadata": {},
   "source": [
    "# Calculate the probability of a hit of multiple units at a given level"
   ]
  },
  {
   "cell_type": "code",
   "execution_count": 50,
   "metadata": {},
   "outputs": [
    {
     "name": "stdout",
     "output_type": "stream",
     "text": [
      "0.39583333333333326\n"
     ]
    }
   ],
   "source": [
    "level=5\n",
    "tiers=[3,2,2]\n",
    "print(multi_hits_prob(level, tiers))"
   ]
  },
  {
   "cell_type": "markdown",
   "metadata": {},
   "source": [
    "# Calculate the mean & variance of hits given a certain number of rolls"
   ]
  },
  {
   "cell_type": "code",
   "execution_count": 51,
   "metadata": {},
   "outputs": [
    {
     "name": "stdout",
     "output_type": "stream",
     "text": [
      "mean = 2.3749999999999996 \n",
      " var = 1.4348958333333333\n"
     ]
    }
   ],
   "source": [
    "level=5\n",
    "tiers=[3,2,2]\n",
    "rolls=6\n",
    "one_roll_prob=multi_hits_prob(level,tiers)\n",
    "mean, var, skew, kurt = stats.binom.stats(rolls, one_roll_prob, moments='mvsk')\n",
    "print('mean = {} \\n var = {}'.format(mean,var))"
   ]
  },
  {
   "cell_type": "code",
   "execution_count": null,
   "metadata": {
    "collapsed": true
   },
   "outputs": [],
   "source": []
  }
 ],
 "metadata": {
  "anaconda-cloud": {},
  "kernelspec": {
   "display_name": "Python [default]",
   "language": "python",
   "name": "python3"
  },
  "language_info": {
   "codemirror_mode": {
    "name": "ipython",
    "version": 3
   },
   "file_extension": ".py",
   "mimetype": "text/x-python",
   "name": "python",
   "nbconvert_exporter": "python",
   "pygments_lexer": "ipython3",
   "version": "3.5.6"
  }
 },
 "nbformat": 4,
 "nbformat_minor": 2
}
