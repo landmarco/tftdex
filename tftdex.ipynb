{
 "cells": [
  {
   "cell_type": "code",
   "execution_count": 1,
   "metadata": {},
   "outputs": [],
   "source": [
    "import numpy as np\n",
    "import pandas as pd\n",
    "from scipy import stats"
   ]
  },
  {
   "cell_type": "code",
   "execution_count": 2,
   "metadata": {},
   "outputs": [],
   "source": [
    "# Represent probabilities of a tier hit\n",
    "level1 = [1.0, 0, 0, 0, 0]\n",
    "level2 = [1.0, 0, 0, 0, 0]\n",
    "level3 = [.65, .3, .5, 0, 0]\n",
    "level4 = [.5, .35, .15, 0, 0]\n",
    "level5 = [.37, .35, .25, .03, 0]\n",
    "level6 = [.245, .35, .3, .10, .005]\n",
    "level7 = [.2, .3, .33, .15, .02]\n",
    "level8 = [.15, .25, .35, .2, .05]\n",
    "level9 = [.1, .15, .35, .3, .1]\n",
    "levels_df = pd.DataFrame([level1,level2,level3,level4,level5,level6,level7,level8,level9],\n",
    "                      columns=['Tier 1', 'Tier 2', 'Tier 3', 'Tier 4', 'Tier 5'])\n",
    "\n",
    "# Represent tier numbers & frequencies\n",
    "tier1 = (12, 39)\n",
    "tier2 = (12, 26)\n",
    "tier3 = (12, 21)\n",
    "tier4 = (9, 13)\n",
    "tier5 = (6, 10)\n",
    "tiers_df = pd.DataFrame([tier1,tier2,tier3,tier4,tier5], columns=['Unique Characters', 'Characters in Pool'])"
   ]
  },
  {
   "cell_type": "code",
   "execution_count": 3,
   "metadata": {},
   "outputs": [
    {
     "data": {
      "text/html": [
       "<div>\n",
       "<table border=\"1\" class=\"dataframe\">\n",
       "  <thead>\n",
       "    <tr style=\"text-align: right;\">\n",
       "      <th></th>\n",
       "      <th>Unique Characters</th>\n",
       "      <th>Characters in Pool</th>\n",
       "    </tr>\n",
       "  </thead>\n",
       "  <tbody>\n",
       "    <tr>\n",
       "      <th>0</th>\n",
       "      <td>12</td>\n",
       "      <td>39</td>\n",
       "    </tr>\n",
       "    <tr>\n",
       "      <th>1</th>\n",
       "      <td>12</td>\n",
       "      <td>26</td>\n",
       "    </tr>\n",
       "    <tr>\n",
       "      <th>2</th>\n",
       "      <td>12</td>\n",
       "      <td>21</td>\n",
       "    </tr>\n",
       "    <tr>\n",
       "      <th>3</th>\n",
       "      <td>9</td>\n",
       "      <td>13</td>\n",
       "    </tr>\n",
       "    <tr>\n",
       "      <th>4</th>\n",
       "      <td>6</td>\n",
       "      <td>10</td>\n",
       "    </tr>\n",
       "  </tbody>\n",
       "</table>\n",
       "</div>"
      ],
      "text/plain": [
       "   Unique Characters  Characters in Pool\n",
       "0                 12                  39\n",
       "1                 12                  26\n",
       "2                 12                  21\n",
       "3                  9                  13\n",
       "4                  6                  10"
      ]
     },
     "execution_count": 3,
     "metadata": {},
     "output_type": "execute_result"
    }
   ],
   "source": [
    "tiers_df"
   ]
  },
  {
   "cell_type": "code",
   "execution_count": 4,
   "metadata": {},
   "outputs": [
    {
     "data": {
      "text/plain": [
       "(array(0.78), array(0.6786), array(0.89830702), array(0.47362216))"
      ]
     },
     "execution_count": 4,
     "metadata": {},
     "output_type": "execute_result"
    }
   ],
   "source": [
    "stats.binom.stats(6,.13, moments='mvsk')"
   ]
  },
  {
   "cell_type": "code",
   "execution_count": 5,
   "metadata": {},
   "outputs": [
    {
     "data": {
      "text/plain": [
       "(array(0.78), array(0.6786))"
      ]
     },
     "execution_count": 5,
     "metadata": {},
     "output_type": "execute_result"
    }
   ],
   "source": [
    "stats.binom.stats(6,.13)"
   ]
  },
  {
   "cell_type": "code",
   "execution_count": 313,
   "metadata": {},
   "outputs": [],
   "source": [
    "def hit_prob(level, tier, levels_df=levels_df, tiers_df=tiers_df, removed=0):\n",
    "    if (1 <= tier <= 5) and (1 <= level <= 9):\n",
    "        tier_prob = levels_df['Tier {}'.format(tier)][level-1]\n",
    "        hits_in_pool = tiers_df['Characters in Pool'][tier-1]\n",
    "        if removed > hits_in_pool: removed=hits_in_pool\n",
    "        char_hits = hits_in_pool - removed\n",
    "        chars_in_tier = tiers_df['Unique Characters'][tier-1]\n",
    "        hit_prob_solo = (char_hits/((chars_in_tier-1)*hits_in_pool + char_hits))*tier_prob\n",
    "        hit_prob = hit_prob_solo*5 # could adjust this to account for dependent probs of sampling\n",
    "        return hit_prob\n",
    "    else:\n",
    "        return 0.0\n",
    "\n",
    "#TODO: clean up & account for dependent probs\n",
    "def multi_hits_prob(level, tiers, levels_df=levels_df, tiers_df=tiers_df, removed=0):\n",
    "    multi_hits_prob = 0\n",
    "    for tier in tiers:\n",
    "        multi_hits_prob += hit_prob(level, tier, levels_df, tiers_df, removed)\n",
    "    return multi_hits_prob\n",
    "\n",
    "def multi_rolls_prob(level, tiers, rolls=10, levels_df=levels_df, tiers_df=tiers_df, removed=0):\n",
    "    multi_rolls_prob = list(map(lambda x:x*multi_hits_prob(level, tiers, levels_df, tiers_df, removed), list(range(1,rolls))))\n",
    "    return multi_rolls_prob\n",
    "    "
   ]
  },
  {
   "cell_type": "code",
   "execution_count": 137,
   "metadata": {},
   "outputs": [],
   "source": [
    "# Interactive plotting with FigureWidget ipywidgets\n",
    "from plotly import graph_objs as go\n",
    "from ipywidgets import widgets"
   ]
  },
  {
   "cell_type": "code",
   "execution_count": 176,
   "metadata": {},
   "outputs": [],
   "source": [
    "level_widget = widgets.IntText(\n",
    "            value=1.0,\n",
    "            description='Current Level='\n",
    "    )\n",
    "\n",
    "#TODO: make a custom widget that accepts a list of tiers\n",
    "tiers1 = widgets.IntText(\n",
    "            value=1.0,\n",
    "            description='Number of Tier1 Champions='\n",
    "    )\n",
    "\n",
    "tiers2 = widgets.IntText(\n",
    "            value=0.0,\n",
    "            description='Number of Tier2 Champions='\n",
    "    )\n",
    "\n",
    "tiers3 = widgets.IntText(\n",
    "            value=0.0,\n",
    "            description='Number of Tier3 Champions='\n",
    "    )\n",
    "\n",
    "tiers4 = widgets.IntText(\n",
    "            value=0.0,\n",
    "            description='Number of Tier4 Champions='\n",
    "    )\n",
    "\n",
    "tiers5 = widgets.IntText(\n",
    "            value=0.0,\n",
    "            description='Number of Tier5 Champions='\n",
    "    )"
   ]
  },
  {
   "cell_type": "code",
   "execution_count": 177,
   "metadata": {},
   "outputs": [],
   "source": [
    "rolls = 10\n",
    "initial_level = 1\n",
    "initial_tiers = []\n",
    "initial_tiers.extend([1 for x in range(tiers1.value)])\n",
    "initial_tiers.extend([2 for x in range(tiers2.value)])\n",
    "initial_tiers.extend([3 for x in range(tiers3.value)])\n",
    "initial_tiers.extend([4 for x in range(tiers4.value)])\n",
    "initial_tiers.extend([5 for x in range(tiers5.value)])"
   ]
  },
  {
   "cell_type": "code",
   "execution_count": 266,
   "metadata": {},
   "outputs": [],
   "source": [
    "#TODO: plot probs of each individual hit, and probs of any hit\n",
    "total_trace = go.Scatter(x=list(range(1,rolls)), \n",
    "                         y=multi_rolls_prob(initial_level, initial_tiers),\n",
    "                         line={'width':4.0},\n",
    "                         opacity=0.5,\n",
    "                        name='Hit on anything')\n",
    "trace1 = go.Scatter(x=list(range(1,rolls)), \n",
    "                    y=multi_rolls_prob(initial_level, [1]),\n",
    "                   line={'color':'DarkGray'},\n",
    "                    #opacity=0.9,\n",
    "                    name='Tier1 hit'\n",
    "                   )\n",
    "\n",
    "#TODO: Create additional five traces\n",
    "g = go.FigureWidget(data=[total_trace, trace1],\n",
    "             layout=go.Layout(\n",
    "             title='TFTdex',\n",
    "                 height=500,\n",
    "             yaxis={'range':[0,10],\n",
    "                   'title':'Expected Number of Hits',\n",
    "                   'nticks':20},\n",
    "            xaxis={'title':'Number of Rolls'}\n",
    "             ))"
   ]
  },
  {
   "cell_type": "code",
   "execution_count": 269,
   "metadata": {},
   "outputs": [],
   "source": [
    "# Function to handle input from widgets and alter graph\n",
    "def validate():\n",
    "    if 1 <= level_widget.value <= 9:\n",
    "        return True\n",
    "    else:\n",
    "        return False\n",
    "    \n",
    "def response(change):\n",
    "    if validate():\n",
    "        level = level_widget.value\n",
    "        tiers = []\n",
    "        if tiers1.value <= tiers_df['Unique Characters'][0]: tiers.extend([1]*tiers1.value)\n",
    "        if tiers2.value <= tiers_df['Unique Characters'][1]: tiers.extend([2]*tiers2.value)\n",
    "        if tiers3.value <= tiers_df['Unique Characters'][2]: tiers.extend([3]*tiers3.value)\n",
    "        if tiers4.value <= tiers_df['Unique Characters'][3]: tiers.extend([4]*tiers4.value)\n",
    "        if tiers5.value <= tiers_df['Unique Characters'][4]: tiers.extend([5]*tiers5.value)\n",
    "        #print(tiers)\n",
    "\n",
    "        updated_probs = multi_rolls_prob(level, tiers)\n",
    "        with g.batch_update():\n",
    "            g.data[0].y = updated_probs\n",
    "            g.data[1].y = multi_rolls_prob(level, [1])\n",
    "\n",
    "#level_widget.observe(response, names='value')\n",
    "#tiers1.observe(response, names='value')\n",
    "#tiers2.observe(response, names='value')\n",
    "#tiers3.observe(response, names='value')\n",
    "#tiers4.observe(response, names='value')\n",
    "#tiers5.observe(response, names='value')\n",
    "g.observe(response, names='value')"
   ]
  },
  {
   "cell_type": "code",
   "execution_count": 270,
   "metadata": {},
   "outputs": [
    {
     "data": {
      "application/vnd.jupyter.widget-view+json": {
       "model_id": "c5dd78b79871433ea6d443c1d8045725",
       "version_major": 2,
       "version_minor": 0
      },
      "text/plain": [
       "VBox(children=(IntText(value=1, description='Current Level='), IntText(value=2, description='Number of Tier1 C…"
      ]
     },
     "metadata": {},
     "output_type": "display_data"
    }
   ],
   "source": [
    "#widgets.VBox([container, container1, container2, container3, container4, container5, g])\n",
    "widgets.VBox([level_widget, tiers1, tiers2, tiers3, tiers4, tiers5, g])"
   ]
  },
  {
   "cell_type": "code",
   "execution_count": 314,
   "metadata": {},
   "outputs": [],
   "source": [
    "#TODO: Create version with stacked bar graph\n",
    "initial_level = 1\n",
    "\n",
    "\n",
    "level_widget = widgets.IntText(\n",
    "            value=initial_level,\n",
    "            description='Current Level='\n",
    "    )\n",
    "\n",
    "champA = widgets.IntText(\n",
    "    value=1.0,\n",
    "    description='Tier of Ath Unit=')\n",
    "champAgone = widgets.IntText(\n",
    "    value=0.0,\n",
    "    description='# of A units removed from pool=')\n",
    "containerA = widgets.HBox(children=[champA, champAgone])\n",
    "\n",
    "champB = widgets.IntText(\n",
    "    value=0.0,\n",
    "    description='Tier of Bth Unit=')\n",
    "champBgone = widgets.IntText(\n",
    "    value=0.0,\n",
    "    description='# of B units removed from pool=')\n",
    "containerB = widgets.HBox(children=[champB, champBgone])\n",
    "\n",
    "champC = widgets.IntText(\n",
    "    value=0.0,\n",
    "    description='Tier of Cth Unit=')\n",
    "champCgone = widgets.IntText(\n",
    "    value=0.0,\n",
    "    description='# of C units removed from pool=')\n",
    "containerC = widgets.HBox(children=[champC, champCgone])\n",
    "\n",
    "champD = widgets.IntText(\n",
    "    value=0.0,\n",
    "    description='Tier of Dth Unit=')\n",
    "champDgone = widgets.IntText(\n",
    "    value=0.0,\n",
    "    description='# of D units removed from pool=')\n",
    "containerD = widgets.HBox(children=[champD, champDgone])\n",
    "\n",
    "champE = widgets.IntText(\n",
    "    value=0.0,\n",
    "    description='Tier of Eth Unit=')\n",
    "champEgone = widgets.IntText(\n",
    "    value=0.0,\n",
    "    description='# of E units removed from pool=')\n",
    "containerE = widgets.HBox(children=[champE, champEgone])\n"
   ]
  },
  {
   "cell_type": "code",
   "execution_count": 315,
   "metadata": {},
   "outputs": [],
   "source": [
    "# Establish color dict for tiers\n",
    "color_dict = {0:'Red', 1:'Gray', 2:'Green', 3:'Blue', 4:'Purple', 5:'Gold'}"
   ]
  },
  {
   "cell_type": "code",
   "execution_count": 326,
   "metadata": {},
   "outputs": [],
   "source": [
    "barA = go.Bar(x=list(range(1,rolls)), \n",
    "              y=multi_rolls_prob(level_widget.value, [champA.value], removed=champAgone.value),\n",
    "              name='Champ A',\n",
    "              marker={'color':color_dict[champA.value],\n",
    "                     'line': {'width':1.5}\n",
    "                     }\n",
    "             )\n",
    "barB = go.Bar(x=list(range(1,rolls)), \n",
    "              y=multi_rolls_prob(level_widget.value, [champB.value], removed=champBgone.value),\n",
    "              name='Champ B',\n",
    "              marker={'color':color_dict[champB.value],\n",
    "                     'line': {'width':1.5}\n",
    "                     }\n",
    "             )\n",
    "barC = go.Bar(x=list(range(1,rolls)), \n",
    "              y=multi_rolls_prob(level_widget.value, [champC.value], removed=champCgone.value),\n",
    "              name='Champ C',\n",
    "              marker={'color':color_dict[champC.value],\n",
    "                     'line': {'width':1.5}\n",
    "                     }\n",
    "             )\n",
    "barD = go.Bar(x=list(range(1,rolls)), \n",
    "              y=multi_rolls_prob(level_widget.value, [champD.value], removed=champDgone.value),\n",
    "              name='Champ D',\n",
    "              marker={'color':color_dict[champD.value],\n",
    "                     'line': {'width':1.5}\n",
    "                     }\n",
    "             )\n",
    "barE = go.Bar(x=list(range(1,rolls)), \n",
    "              y=multi_rolls_prob(level_widget.value, [champE.value], removed=champEgone.value),\n",
    "              name='Champ E',\n",
    "              marker={'color':color_dict[champE.value],\n",
    "                     'line': {'width':1.5}\n",
    "                     }\n",
    "             )\n",
    "\n",
    "fig = go.FigureWidget(data=[barA, barB, barC, barD, barE],\n",
    "             layout=go.Layout(\n",
    "                 title='TFTdex Bar Mode',\n",
    "                 height=500,\n",
    "                 barmode='stack',\n",
    "                 yaxis={'range':[0,6],\n",
    "                   'title':'Expected Number of Hits',\n",
    "                   'nticks':8},\n",
    "                 xaxis={'title':'Number of Rolls'}\n",
    "             ))"
   ]
  },
  {
   "cell_type": "code",
   "execution_count": 327,
   "metadata": {},
   "outputs": [],
   "source": [
    "def validate_bar():\n",
    "    if (1 <= level_widget <=9) and (1 <= champA.value <= 5) and (1 <= champB.value <= 5) and (1 <= champC.value <= 5) and (1 <= champD.value <= 5) and (1 <= champE.value <= 5):\n",
    "        return True\n",
    "    else:\n",
    "        return False\n",
    "\n",
    "def check(change):\n",
    "    if validate_bar:\n",
    "        level = level_widget.value\n",
    "        with fig.batch_update():\n",
    "            fig.data[0].y=multi_rolls_prob(level, [champA.value], removed=champAgone.value)\n",
    "            fig.data[0].marker['color']=color_dict[champA.value]\n",
    "            fig.data[1].y=multi_rolls_prob(level, [champB.value], removed=champBgone.value)\n",
    "            fig.data[1].marker['color']=color_dict[champB.value]\n",
    "            fig.data[2].y=multi_rolls_prob(level, [champC.value], removed=champCgone.value)\n",
    "            fig.data[2].marker['color']=color_dict[champC.value]\n",
    "            fig.data[3].y=multi_rolls_prob(level, [champD.value], removed=champDgone.value)\n",
    "            fig.data[3].marker['color']=color_dict[champD.value]\n",
    "            fig.data[4].y=multi_rolls_prob(level, [champE.value], removed=champEgone.value)\n",
    "            fig.data[4].marker['color']=color_dict[champE.value]\n",
    " \n",
    "level_widget.observe(check, names='value')\n",
    "champA.observe(check, names='value')\n",
    "champAgone.observe(check, names='value')\n",
    "champB.observe(check, names='value')\n",
    "champBgone.observe(check, names='value')\n",
    "champC.observe(check, names='value')\n",
    "champCgone.observe(check, names='value')\n",
    "champD.observe(check, names='value')\n",
    "champDgone.observe(check, names='value')\n",
    "champE.observe(check, names='value')\n",
    "champEgone.observe(check, names='value')\n",
    "#fig.observe(check, names='value')"
   ]
  },
  {
   "cell_type": "code",
   "execution_count": 328,
   "metadata": {},
   "outputs": [
    {
     "data": {
      "application/vnd.jupyter.widget-view+json": {
       "model_id": "16cb1b3db0d04f4a83b00b3da5b3bddc",
       "version_major": 2,
       "version_minor": 0
      },
      "text/plain": [
       "VBox(children=(IntText(value=1, description='Current Level='), HBox(children=(IntText(value=1, description='Ti…"
      ]
     },
     "metadata": {},
     "output_type": "display_data"
    }
   ],
   "source": [
    "widgets.VBox([level_widget, containerA, containerB, containerC, containerD, containerE, fig])"
   ]
  },
  {
   "cell_type": "markdown",
   "metadata": {},
   "source": [
    "# Calculate the probability of a hit of one unit at a given level"
   ]
  },
  {
   "cell_type": "code",
   "execution_count": 49,
   "metadata": {},
   "outputs": [
    {
     "name": "stdout",
     "output_type": "stream",
     "text": [
      "0.10416666666666666\n"
     ]
    }
   ],
   "source": [
    "level=5\n",
    "tier=3\n",
    "print(hit_prob(level,tier))"
   ]
  },
  {
   "cell_type": "markdown",
   "metadata": {},
   "source": [
    "# Calculate the probability of a hit of multiple units at a given level"
   ]
  },
  {
   "cell_type": "code",
   "execution_count": 50,
   "metadata": {},
   "outputs": [
    {
     "name": "stdout",
     "output_type": "stream",
     "text": [
      "0.39583333333333326\n"
     ]
    }
   ],
   "source": [
    "level=5\n",
    "tiers=[3,2,2]\n",
    "print(multi_hits_prob(level, tiers))"
   ]
  },
  {
   "cell_type": "markdown",
   "metadata": {},
   "source": [
    "# Calculate the mean & variance of hits given a certain number of rolls"
   ]
  },
  {
   "cell_type": "code",
   "execution_count": 51,
   "metadata": {},
   "outputs": [
    {
     "name": "stdout",
     "output_type": "stream",
     "text": [
      "mean = 2.3749999999999996 \n",
      " var = 1.4348958333333333\n"
     ]
    }
   ],
   "source": [
    "level=5\n",
    "tiers=[3,2,2]\n",
    "rolls=6\n",
    "one_roll_prob=multi_hits_prob(level,tiers)\n",
    "mean, var, skew, kurt = stats.binom.stats(rolls, one_roll_prob, moments='mvsk')\n",
    "print('mean = {} \\n var = {}'.format(mean,var))"
   ]
  },
  {
   "cell_type": "code",
   "execution_count": null,
   "metadata": {
    "collapsed": true
   },
   "outputs": [],
   "source": []
  }
 ],
 "metadata": {
  "anaconda-cloud": {},
  "kernelspec": {
   "display_name": "Python [default]",
   "language": "python",
   "name": "python3"
  },
  "language_info": {
   "codemirror_mode": {
    "name": "ipython",
    "version": 3
   },
   "file_extension": ".py",
   "mimetype": "text/x-python",
   "name": "python",
   "nbconvert_exporter": "python",
   "pygments_lexer": "ipython3",
   "version": "3.5.6"
  }
 },
 "nbformat": 4,
 "nbformat_minor": 2
}
